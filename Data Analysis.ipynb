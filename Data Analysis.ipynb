{
 "cells": [
  {
   "cell_type": "code",
   "execution_count": 409,
   "metadata": {
    "collapsed": true
   },
   "outputs": [],
   "source": [
    "import numpy as np\n",
    "import pandas as pd\n",
    "import matplotlib.pyplot as plt\n",
    "import re"
   ]
  },
  {
   "cell_type": "code",
   "execution_count": 410,
   "metadata": {
    "collapsed": true
   },
   "outputs": [],
   "source": [
    "% matplotlib inline"
   ]
  },
  {
   "cell_type": "code",
   "execution_count": 4,
   "metadata": {
    "collapsed": false
   },
   "outputs": [],
   "source": [
    "datum = pd.read_csv('atusdata/atussum_2013.dat')"
   ]
  },
  {
   "cell_type": "code",
   "execution_count": 5,
   "metadata": {
    "collapsed": false
   },
   "outputs": [
    {
     "data": {
      "text/html": [
       "<div>\n",
       "<table border=\"1\" class=\"dataframe\">\n",
       "  <thead>\n",
       "    <tr style=\"text-align: right;\">\n",
       "      <th></th>\n",
       "      <th>tucaseid</th>\n",
       "      <th>TUFINLWGT</th>\n",
       "      <th>TRYHHCHILD</th>\n",
       "      <th>TEAGE</th>\n",
       "      <th>TESEX</th>\n",
       "      <th>PEEDUCA</th>\n",
       "      <th>PTDTRACE</th>\n",
       "      <th>PEHSPNON</th>\n",
       "      <th>GTMETSTA</th>\n",
       "      <th>TELFS</th>\n",
       "      <th>...</th>\n",
       "      <th>t181501</th>\n",
       "      <th>t181599</th>\n",
       "      <th>t181601</th>\n",
       "      <th>t181801</th>\n",
       "      <th>t189999</th>\n",
       "      <th>t500101</th>\n",
       "      <th>t500103</th>\n",
       "      <th>t500105</th>\n",
       "      <th>t500106</th>\n",
       "      <th>t500107</th>\n",
       "    </tr>\n",
       "  </thead>\n",
       "  <tbody>\n",
       "    <tr>\n",
       "      <th>0</th>\n",
       "      <td>20130101130004</td>\n",
       "      <td>11899905.662034</td>\n",
       "      <td>12</td>\n",
       "      <td>22</td>\n",
       "      <td>2</td>\n",
       "      <td>40</td>\n",
       "      <td>8</td>\n",
       "      <td>2</td>\n",
       "      <td>1</td>\n",
       "      <td>5</td>\n",
       "      <td>...</td>\n",
       "      <td>0</td>\n",
       "      <td>0</td>\n",
       "      <td>0</td>\n",
       "      <td>0</td>\n",
       "      <td>0</td>\n",
       "      <td>0</td>\n",
       "      <td>0</td>\n",
       "      <td>0</td>\n",
       "      <td>0</td>\n",
       "      <td>0</td>\n",
       "    </tr>\n",
       "    <tr>\n",
       "      <th>1</th>\n",
       "      <td>20130101130112</td>\n",
       "      <td>4447638.009513</td>\n",
       "      <td>1</td>\n",
       "      <td>39</td>\n",
       "      <td>1</td>\n",
       "      <td>43</td>\n",
       "      <td>1</td>\n",
       "      <td>2</td>\n",
       "      <td>1</td>\n",
       "      <td>1</td>\n",
       "      <td>...</td>\n",
       "      <td>0</td>\n",
       "      <td>0</td>\n",
       "      <td>0</td>\n",
       "      <td>0</td>\n",
       "      <td>0</td>\n",
       "      <td>0</td>\n",
       "      <td>0</td>\n",
       "      <td>0</td>\n",
       "      <td>0</td>\n",
       "      <td>0</td>\n",
       "    </tr>\n",
       "    <tr>\n",
       "      <th>2</th>\n",
       "      <td>20130101130123</td>\n",
       "      <td>10377056.507734</td>\n",
       "      <td>-1</td>\n",
       "      <td>47</td>\n",
       "      <td>2</td>\n",
       "      <td>40</td>\n",
       "      <td>1</td>\n",
       "      <td>2</td>\n",
       "      <td>1</td>\n",
       "      <td>4</td>\n",
       "      <td>...</td>\n",
       "      <td>25</td>\n",
       "      <td>0</td>\n",
       "      <td>0</td>\n",
       "      <td>0</td>\n",
       "      <td>0</td>\n",
       "      <td>0</td>\n",
       "      <td>0</td>\n",
       "      <td>0</td>\n",
       "      <td>0</td>\n",
       "      <td>0</td>\n",
       "    </tr>\n",
       "    <tr>\n",
       "      <th>3</th>\n",
       "      <td>20130101130611</td>\n",
       "      <td>7731257.992805</td>\n",
       "      <td>-1</td>\n",
       "      <td>50</td>\n",
       "      <td>2</td>\n",
       "      <td>40</td>\n",
       "      <td>1</td>\n",
       "      <td>1</td>\n",
       "      <td>1</td>\n",
       "      <td>1</td>\n",
       "      <td>...</td>\n",
       "      <td>0</td>\n",
       "      <td>0</td>\n",
       "      <td>0</td>\n",
       "      <td>0</td>\n",
       "      <td>0</td>\n",
       "      <td>0</td>\n",
       "      <td>0</td>\n",
       "      <td>0</td>\n",
       "      <td>0</td>\n",
       "      <td>0</td>\n",
       "    </tr>\n",
       "    <tr>\n",
       "      <th>4</th>\n",
       "      <td>20130101130616</td>\n",
       "      <td>4725269.227067</td>\n",
       "      <td>-1</td>\n",
       "      <td>45</td>\n",
       "      <td>2</td>\n",
       "      <td>40</td>\n",
       "      <td>2</td>\n",
       "      <td>2</td>\n",
       "      <td>1</td>\n",
       "      <td>1</td>\n",
       "      <td>...</td>\n",
       "      <td>0</td>\n",
       "      <td>0</td>\n",
       "      <td>0</td>\n",
       "      <td>0</td>\n",
       "      <td>0</td>\n",
       "      <td>0</td>\n",
       "      <td>0</td>\n",
       "      <td>0</td>\n",
       "      <td>0</td>\n",
       "      <td>0</td>\n",
       "    </tr>\n",
       "  </tbody>\n",
       "</table>\n",
       "<p>5 rows × 413 columns</p>\n",
       "</div>"
      ],
      "text/plain": [
       "         tucaseid        TUFINLWGT  TRYHHCHILD  TEAGE  TESEX  PEEDUCA  \\\n",
       "0  20130101130004  11899905.662034          12     22      2       40   \n",
       "1  20130101130112   4447638.009513           1     39      1       43   \n",
       "2  20130101130123  10377056.507734          -1     47      2       40   \n",
       "3  20130101130611   7731257.992805          -1     50      2       40   \n",
       "4  20130101130616   4725269.227067          -1     45      2       40   \n",
       "\n",
       "   PTDTRACE  PEHSPNON  GTMETSTA  TELFS   ...     t181501  t181599  t181601  \\\n",
       "0         8         2         1      5   ...           0        0        0   \n",
       "1         1         2         1      1   ...           0        0        0   \n",
       "2         1         2         1      4   ...          25        0        0   \n",
       "3         1         1         1      1   ...           0        0        0   \n",
       "4         2         2         1      1   ...           0        0        0   \n",
       "\n",
       "   t181801  t189999  t500101  t500103  t500105  t500106  t500107  \n",
       "0        0        0        0        0        0        0        0  \n",
       "1        0        0        0        0        0        0        0  \n",
       "2        0        0        0        0        0        0        0  \n",
       "3        0        0        0        0        0        0        0  \n",
       "4        0        0        0        0        0        0        0  \n",
       "\n",
       "[5 rows x 413 columns]"
      ]
     },
     "execution_count": 5,
     "metadata": {},
     "output_type": "execute_result"
    }
   ],
   "source": [
    "datum.head()"
   ]
  },
  {
   "cell_type": "markdown",
   "metadata": {},
   "source": [
    "##Pertinent columns:\n",
    "###TUFINLWGT - statistical weight of respondent\n",
    "###TRYHHCHILD - age of youngest child in household\n",
    "###TEAGE - age of respondent\n",
    "###TESEX - sex of respondent\n",
    "###TELFS - working status of respondent\n",
    "###TRCHILDNUM - number of children in household"
   ]
  },
  {
   "cell_type": "code",
   "execution_count": 408,
   "metadata": {
    "collapsed": false
   },
   "outputs": [
    {
     "name": "stderr",
     "output_type": "stream",
     "text": [
      "/Users/sorenolegnowicz/cs/python/projects/atus-analysis/.direnv/python-3.4.3/lib/python3.4/site-packages/IPython/core/interactiveshell.py:3035: SettingWithCopyWarning: \n",
      "A value is trying to be set on a copy of a slice from a DataFrame\n",
      "\n",
      "See the the caveats in the documentation: http://pandas.pydata.org/pandas-docs/stable/indexing.html#indexing-view-versus-copy\n",
      "  exec(code_obj, self.user_global_ns, self.user_ns)\n"
     ]
    }
   ],
   "source": [
    "age = datum['TEAGE'].to_frame()\n",
    "sexy_age = datum[['TEAGE', 'TESEX']]\n",
    "master = datum[['TEAGE', 't010101', 'TESEX', 'TUFINLWGT','t050101', 't120303']]\n",
    "master.TEAGE.update((master.TEAGE // 10) * 10)"
   ]
  },
  {
   "cell_type": "code",
   "execution_count": 88,
   "metadata": {
    "collapsed": false,
    "scrolled": true
   },
   "outputs": [
    {
     "name": "stdout",
     "output_type": "stream",
     "text": [
      "Help on method plot_frame in module pandas.tools.plotting:\n",
      "\n",
      "plot_frame(x=None, y=None, kind='line', ax=None, subplots=False, sharex=None, sharey=False, layout=None, figsize=None, use_index=True, title=None, grid=None, legend=True, style=None, logx=False, logy=False, loglog=False, xticks=None, yticks=None, xlim=None, ylim=None, rot=None, fontsize=None, colormap=None, table=False, yerr=None, xerr=None, secondary_y=False, sort_columns=False, **kwds) method of pandas.core.frame.DataFrame instance\n",
      "    Make plots of DataFrame using matplotlib / pylab.\n",
      "    \n",
      "    Parameters\n",
      "    ----------\n",
      "    data : DataFrame\n",
      "    x : label or position, default None\n",
      "    y : label or position, default None\n",
      "        Allows plotting of one column versus another\n",
      "    kind : str\n",
      "        - 'line' : line plot (default)\n",
      "        - 'bar' : vertical bar plot\n",
      "        - 'barh' : horizontal bar plot\n",
      "        - 'hist' : histogram\n",
      "        - 'box' : boxplot\n",
      "        - 'kde' : Kernel Density Estimation plot\n",
      "        - 'density' : same as 'kde'\n",
      "        - 'area' : area plot\n",
      "        - 'pie' : pie plot\n",
      "        - 'scatter' : scatter plot\n",
      "        - 'hexbin' : hexbin plot\n",
      "    ax : matplotlib axes object, default None\n",
      "    subplots : boolean, default False\n",
      "        Make separate subplots for each column\n",
      "    sharex : boolean, default True if ax is None else False\n",
      "        In case subplots=True, share x axis and set some x axis labels to\n",
      "        invisible; defaults to True if ax is None otherwise False if an ax\n",
      "        is passed in; Be aware, that passing in both an ax and sharex=True\n",
      "        will alter all x axis labels for all axis in a figure!\n",
      "    sharey : boolean, default False\n",
      "        In case subplots=True, share y axis and set some y axis labels to\n",
      "        invisible\n",
      "    layout : tuple (optional)\n",
      "        (rows, columns) for the layout of subplots\n",
      "    figsize : a tuple (width, height) in inches\n",
      "    use_index : boolean, default True\n",
      "        Use index as ticks for x axis\n",
      "    title : string\n",
      "        Title to use for the plot\n",
      "    grid : boolean, default None (matlab style default)\n",
      "        Axis grid lines\n",
      "    legend : False/True/'reverse'\n",
      "        Place legend on axis subplots\n",
      "    style : list or dict\n",
      "        matplotlib line style per column\n",
      "    logx : boolean, default False\n",
      "        Use log scaling on x axis\n",
      "    logy : boolean, default False\n",
      "        Use log scaling on y axis\n",
      "    loglog : boolean, default False\n",
      "        Use log scaling on both x and y axes\n",
      "    xticks : sequence\n",
      "        Values to use for the xticks\n",
      "    yticks : sequence\n",
      "        Values to use for the yticks\n",
      "    xlim : 2-tuple/list\n",
      "    ylim : 2-tuple/list\n",
      "    rot : int, default None\n",
      "        Rotation for ticks (xticks for vertical, yticks for horizontal plots)\n",
      "    fontsize : int, default None\n",
      "        Font size for xticks and yticks\n",
      "    colormap : str or matplotlib colormap object, default None\n",
      "        Colormap to select colors from. If string, load colormap with that name\n",
      "        from matplotlib.\n",
      "    colorbar : boolean, optional\n",
      "        If True, plot colorbar (only relevant for 'scatter' and 'hexbin' plots)\n",
      "    position : float\n",
      "        Specify relative alignments for bar plot layout.\n",
      "        From 0 (left/bottom-end) to 1 (right/top-end). Default is 0.5 (center)\n",
      "    layout : tuple (optional)\n",
      "        (rows, columns) for the layout of the plot\n",
      "    table : boolean, Series or DataFrame, default False\n",
      "        If True, draw a table using the data in the DataFrame and the data will\n",
      "        be transposed to meet matplotlib's default layout.\n",
      "        If a Series or DataFrame is passed, use passed data to draw a table.\n",
      "    yerr : DataFrame, Series, array-like, dict and str\n",
      "        See :ref:`Plotting with Error Bars <visualization.errorbars>` for detail.\n",
      "    xerr : same types as yerr.\n",
      "    stacked : boolean, default False in line and\n",
      "        bar plots, and True in area plot. If True, create stacked plot.\n",
      "    sort_columns : boolean, default False\n",
      "        Sort column names to determine plot ordering\n",
      "    secondary_y : boolean or sequence, default False\n",
      "        Whether to plot on the secondary y-axis\n",
      "        If a list/tuple, which columns to plot on secondary y-axis\n",
      "    mark_right : boolean, default True\n",
      "        When using a secondary_y axis, automatically mark the column\n",
      "        labels with \"(right)\" in the legend\n",
      "    kwds : keywords\n",
      "        Options to pass to matplotlib plotting method\n",
      "    \n",
      "    Returns\n",
      "    -------\n",
      "    axes : matplotlib.AxesSubplot or np.array of them\n",
      "    \n",
      "    Notes\n",
      "    -----\n",
      "    \n",
      "    - See matplotlib documentation online for more on this subject\n",
      "    - If `kind` = 'bar' or 'barh', you can specify relative alignments\n",
      "      for bar plot layout by `position` keyword.\n",
      "      From 0 (left/bottom-end) to 1 (right/top-end). Default is 0.5 (center)\n",
      "    - If `kind` = 'scatter' and the argument `c` is the name of a dataframe\n",
      "      column, the values of that column are used to color each point.\n",
      "    - If `kind` = 'hexbin', you can control the size of the bins with the\n",
      "      `gridsize` argument. By default, a histogram of the counts around each\n",
      "      `(x, y)` point is computed. You can specify alternative aggregations\n",
      "      by passing values to the `C` and `reduce_C_function` arguments.\n",
      "      `C` specifies the value at each `(x, y)` point and `reduce_C_function`\n",
      "      is a function of one argument that reduces all the values in a bin to\n",
      "      a single number (e.g. `mean`, `max`, `sum`, `std`).\n",
      "\n"
     ]
    }
   ],
   "source": [
    "help(age.plot)"
   ]
  },
  {
   "cell_type": "code",
   "execution_count": 243,
   "metadata": {
    "collapsed": false
   },
   "outputs": [
    {
     "name": "stdout",
     "output_type": "stream",
     "text": [
      "520.779678623\n"
     ]
    }
   ],
   "source": [
    "print(average_minutes(agesleep, '010101'))"
   ]
  },
  {
   "cell_type": "code",
   "execution_count": 49,
   "metadata": {
    "collapsed": false
   },
   "outputs": [
    {
     "data": {
      "text/plain": [
       "<matplotlib.text.Text at 0x1232233c8>"
      ]
     },
     "execution_count": 49,
     "metadata": {},
     "output_type": "execute_result"
    },
    {
     "data": {
      "image/png": "[encoded data removed]",
      "text/plain": [
       "<matplotlib.figure.Figure at 0x1231f8470>"
      ]
     },
     "metadata": {},
     "output_type": "display_data"
    }
   ],
   "source": [
    "age_plot = age['TEAGE'].plot(kind='hist', bins=70, figsize=(10,8), \n",
    "                             title='Ages of Respondents', fontsize=16, color='k')\n",
    "age_plot.set_xlabel(\"AGE\")\n",
    "age_plot.set_ylabel(\"Number of Respondents\")"
   ]
  },
  {
   "cell_type": "code",
   "execution_count": 57,
   "metadata": {
    "collapsed": false
   },
   "outputs": [],
   "source": [
    "female_age = sexy_age[sexy_age.TESEX == 2]\n",
    "male_age = sexy_age[sexy_age.TESEX == 1]\n"
   ]
  },
  {
   "cell_type": "code",
   "execution_count": 356,
   "metadata": {
    "collapsed": false
   },
   "outputs": [
    {
     "name": "stdout",
     "output_type": "stream",
     "text": [
      "Total number of males: 5082\n"
     ]
    },
    {
     "data": {
      "image/png": "[encoded data removed]",
      "text/plain": [
       "<matplotlib.figure.Figure at 0x11ee41d68>"
      ]
     },
     "metadata": {},
     "output_type": "display_data"
    }
   ],
   "source": [
    "print(\"Total number of males: {}\".format(male_age.shape[0]))\n",
    "male_plot = male_age['TEAGE'].plot(kind='hist', ylim=(0,250), bins=70, figsize=(10,8), \n",
    "                                   title='Ages of Respondents', fontsize=16, color='b')\n",
    "male_plot.set_xlabel(\"AGE\")\n",
    "male_plot.set_ylabel(\"Number of Respondents\")\n",
    "plt.show()"
   ]
  },
  {
   "cell_type": "code",
   "execution_count": 75,
   "metadata": {
    "collapsed": false
   },
   "outputs": [],
   "source": []
  },
  {
   "cell_type": "code",
   "execution_count": 355,
   "metadata": {
    "collapsed": false,
    "scrolled": false
   },
   "outputs": [
    {
     "name": "stdout",
     "output_type": "stream",
     "text": [
      "Total number of Females: 6303\n"
     ]
    },
    {
     "data": {
      "image/png": "[encoded data removed]",
      "text/plain": [
       "<matplotlib.figure.Figure at 0x12a561080>"
      ]
     },
     "metadata": {},
     "output_type": "display_data"
    }
   ],
   "source": [
    "print(\"Total number of Females: {}\".format(female_age.shape[0]))\n",
    "female_plot = female_age['TEAGE'].plot(kind='hist', bins=70, figsize=(10,8), \n",
    "                                       title='Ages of Respondents', fontsize=16, color='m')\n",
    "female_plot.set_xlabel(\"AGE\")\n",
    "female_plot.set_ylabel(\"Number of Respondents\")\n",
    "plt.show()"
   ]
  },
  {
   "cell_type": "code",
   "execution_count": 237,
   "metadata": {
    "collapsed": true
   },
   "outputs": [],
   "source": [
    "def average_minutes(data, activity_code):\n",
    "    activity_col = \"t{}\".format(activity_code)\n",
    "    data = data[['TUFINLWGT', activity_col]]\n",
    "    data = data.rename(columns={\"TUFINLWGT\": \"weight\", activity_col: \"minutes\"})\n",
    "    data['weighted_minutes'] = data.weight * data.minutes\n",
    "    return data.weighted_minutes.sum() / data.weight.sum()"
   ]
  },
  {
   "cell_type": "markdown",
   "metadata": {},
   "source": [
    "The above function returns the weighted average."
   ]
  },
  {
   "cell_type": "code",
   "execution_count": 376,
   "metadata": {
    "collapsed": true
   },
   "outputs": [],
   "source": [
    "def all_time(data, desire_name, desire_code, duty):\n",
    "    data_group = data.groupby(duty)\n",
    "    data_time = {i: average_minutes(k, desire_code) for i, k in data_group}\n",
    "    data_df = pd.DataFrame(data_time, index=[desire_name])\n",
    "    data_df = data_df.T\n",
    "    return data_df"
   ]
  },
  {
   "cell_type": "markdown",
   "metadata": {},
   "source": [
    "The above function will return the averages of the given parts of a dataframe using '.groupby'"
   ]
  },
  {
   "cell_type": "code",
   "execution_count": 329,
   "metadata": {
    "collapsed": true
   },
   "outputs": [],
   "source": [
    "master_group = master.groupby('TEAGE')\n"
   ]
  },
  {
   "cell_type": "code",
   "execution_count": 382,
   "metadata": {
    "collapsed": false
   },
   "outputs": [
    {
     "data": {
      "text/html": [
       "<div>\n",
       "<table border=\"1\" class=\"dataframe\">\n",
       "  <thead>\n",
       "    <tr style=\"text-align: right;\">\n",
       "      <th></th>\n",
       "      <th>Sleep</th>\n",
       "      <th>Work</th>\n",
       "    </tr>\n",
       "  </thead>\n",
       "  <tbody>\n",
       "    <tr>\n",
       "      <th>10</th>\n",
       "      <td>572.874959</td>\n",
       "      <td>51.847874</td>\n",
       "    </tr>\n",
       "    <tr>\n",
       "      <th>20</th>\n",
       "      <td>532.986603</td>\n",
       "      <td>218.561638</td>\n",
       "    </tr>\n",
       "    <tr>\n",
       "      <th>30</th>\n",
       "      <td>510.443990</td>\n",
       "      <td>251.044129</td>\n",
       "    </tr>\n",
       "    <tr>\n",
       "      <th>40</th>\n",
       "      <td>512.147604</td>\n",
       "      <td>247.786269</td>\n",
       "    </tr>\n",
       "    <tr>\n",
       "      <th>50</th>\n",
       "      <td>501.802848</td>\n",
       "      <td>233.328555</td>\n",
       "    </tr>\n",
       "    <tr>\n",
       "      <th>60</th>\n",
       "      <td>507.882861</td>\n",
       "      <td>128.834603</td>\n",
       "    </tr>\n",
       "    <tr>\n",
       "      <th>70</th>\n",
       "      <td>520.346491</td>\n",
       "      <td>37.429498</td>\n",
       "    </tr>\n",
       "    <tr>\n",
       "      <th>80</th>\n",
       "      <td>558.167498</td>\n",
       "      <td>16.443226</td>\n",
       "    </tr>\n",
       "  </tbody>\n",
       "</table>\n",
       "</div>"
      ],
      "text/plain": [
       "         Sleep        Work\n",
       "10  572.874959   51.847874\n",
       "20  532.986603  218.561638\n",
       "30  510.443990  251.044129\n",
       "40  512.147604  247.786269\n",
       "50  501.802848  233.328555\n",
       "60  507.882861  128.834603\n",
       "70  520.346491   37.429498\n",
       "80  558.167498   16.443226"
      ]
     },
     "execution_count": 382,
     "metadata": {},
     "output_type": "execute_result"
    }
   ],
   "source": [
    "sleep_time = {i: average_minutes(k, '010101') for i, k in master_group}\n",
    "work_time = {i: average_minutes(k, '050101') for i, k in master_group}\n",
    "    \n",
    "sleeper = all_time(master, 'Sleep', '010101', 'TEAGE')\n",
    "worker = all_time(master, 'Work','050101', 'TEAGE')\n",
    "sleep_work = sleeper.join(worker)\n"
   ]
  },
  {
   "cell_type": "code",
   "execution_count": 375,
   "metadata": {
    "collapsed": false
   },
   "outputs": [
    {
     "data": {
      "text/html": [
       "<div>\n",
       "<table border=\"1\" class=\"dataframe\">\n",
       "  <thead>\n",
       "    <tr style=\"text-align: right;\">\n",
       "      <th></th>\n",
       "      <th>10</th>\n",
       "      <th>20</th>\n",
       "      <th>30</th>\n",
       "      <th>40</th>\n",
       "      <th>50</th>\n",
       "      <th>60</th>\n",
       "      <th>70</th>\n",
       "      <th>80</th>\n",
       "    </tr>\n",
       "  </thead>\n",
       "  <tbody>\n",
       "    <tr>\n",
       "      <th>hello</th>\n",
       "      <td>572.874959</td>\n",
       "      <td>532.986603</td>\n",
       "      <td>510.44399</td>\n",
       "      <td>512.147604</td>\n",
       "      <td>501.802848</td>\n",
       "      <td>507.882861</td>\n",
       "      <td>520.346491</td>\n",
       "      <td>558.167498</td>\n",
       "    </tr>\n",
       "  </tbody>\n",
       "</table>\n",
       "</div>"
      ],
      "text/plain": [
       "               10          20         30          40          50          60  \\\n",
       "hello  572.874959  532.986603  510.44399  512.147604  501.802848  507.882861   \n",
       "\n",
       "               70          80  \n",
       "hello  520.346491  558.167498  "
      ]
     },
     "execution_count": 375,
     "metadata": {},
     "output_type": "execute_result"
    }
   ],
   "source": [
    "sleep_df = pd.DataFrame(sleep_time, index=['sleep'])\n",
    "work_df = pd.DataFrame(work_time, index=['work'])\n"
   ]
  },
  {
   "cell_type": "code",
   "execution_count": 332,
   "metadata": {
    "collapsed": false
   },
   "outputs": [],
   "source": [
    "sleep_df = sleep_df.T\n",
    "work_df = work_df.T"
   ]
  },
  {
   "cell_type": "markdown",
   "metadata": {},
   "source": [
    "'sleep_df' is now equivalent to 'all_time(master, '010101', 'TEAGE')'"
   ]
  },
  {
   "cell_type": "code",
   "execution_count": 387,
   "metadata": {
    "collapsed": false,
    "scrolled": false
   },
   "outputs": [
    {
     "data": {
      "image/png": "[encoded data removed]",
      "text/plain": [
       "<matplotlib.figure.Figure at 0x12cb52a20>"
      ]
     },
     "metadata": {},
     "output_type": "display_data"
    }
   ],
   "source": [
    "\n",
    "sleep_plot = sleeper.plot(figsize=(10,6), color='c', title=\"Time slept per Age\",\n",
    "                               marker='o', markerfacecolor='b', markersize=3,\n",
    "                               fontsize=16)\n",
    "sleep_plot.set_xlabel(\"Age Group\")\n",
    "sleep_plot.set_ylabel(\"Average Time Slept\")\n",
    "sleep_plot.legend(['1 Year'])\n",
    "sleep_plot.grid(axis='x',color='r')\n",
    "#decades = [\"{}'s\".format(i) for i in range(10,81,10)]\n",
    "#sleep_plot.set_xticks(range(10,81,10), decades)\n"
   ]
  },
  {
   "cell_type": "code",
   "execution_count": 391,
   "metadata": {
    "collapsed": false,
    "scrolled": false
   },
   "outputs": [
    {
     "data": {
      "image/png": "[encoded data removed]",
      "text/plain": [
       "<matplotlib.figure.Figure at 0x12be50e80>"
      ]
     },
     "metadata": {},
     "output_type": "display_data"
    }
   ],
   "source": [
    "work_plot = worker.plot(figsize=(10,6), color='m', title=\"Time Worked per Age\",\n",
    "                               marker='o', markerfacecolor='k', markersize=3,\n",
    "                               fontsize=16)\n",
    "work_plot.set_xlabel(\"Age Group\")\n",
    "work_plot.set_ylabel(\"Average Time Worked\")\n",
    "work_plot.legend(['1 Year'])\n",
    "work_plot.grid(axis='x',color='r')"
   ]
  },
  {
   "cell_type": "markdown",
   "metadata": {},
   "source": [
    "The above two plots suggest that Time worked is inversely proportional to Time slept."
   ]
  },
  {
   "cell_type": "code",
   "execution_count": 398,
   "metadata": {
    "collapsed": false
   },
   "outputs": [
    {
     "data": {
      "text/plain": [
       "<matplotlib.axes._subplots.AxesSubplot at 0x12d063400>"
      ]
     },
     "execution_count": 398,
     "metadata": {},
     "output_type": "execute_result"
    },
    {
     "data": {
      "image/png": "[encoded data removed]",
      "text/plain": [
       "<matplotlib.figure.Figure at 0x12c3b5668>"
      ]
     },
     "metadata": {},
     "output_type": "display_data"
    }
   ],
   "source": [
    "watcher = all_time(master, 'Televisioning', '120303', 'TEAGE')\n",
    "watcher.plot(figsize=(10,6))"
   ]
  },
  {
   "cell_type": "markdown",
   "metadata": {},
   "source": [
    "Televsion usage increases with age. Why?"
   ]
  },
  {
   "cell_type": "code",
   "execution_count": 403,
   "metadata": {
    "collapsed": true
   },
   "outputs": [],
   "source": [
    "def activity_columns(data, activity_code):\n",
    "    col_prefix = \"t{}\".format(activity_code)\n",
    "    return [column for column in data.columns if re.match(col_prefix, column)]"
   ]
  },
  {
   "cell_type": "code",
   "execution_count": 411,
   "metadata": {
    "collapsed": false
   },
   "outputs": [],
   "source": [
    "exercise_list = datum[activity_columns(datum, '1301')]"
   ]
  },
  {
   "cell_type": "code",
   "execution_count": 440,
   "metadata": {
    "collapsed": false,
    "scrolled": true
   },
   "outputs": [
    {
     "data": {
      "text/plain": [
       "0          0\n",
       "1          0\n",
       "2        260\n",
       "3          0\n",
       "4         60\n",
       "5          0\n",
       "6          0\n",
       "7          0\n",
       "8          0\n",
       "9          0\n",
       "10         0\n",
       "11         0\n",
       "12         0\n",
       "13         0\n",
       "14         0\n",
       "15         0\n",
       "16         0\n",
       "17         0\n",
       "18        60\n",
       "19         0\n",
       "20        30\n",
       "21         0\n",
       "22         0\n",
       "23         0\n",
       "24         0\n",
       "25       120\n",
       "26         0\n",
       "27         0\n",
       "28         0\n",
       "29         0\n",
       "        ... \n",
       "11355    315\n",
       "11356     30\n",
       "11357      0\n",
       "11358      0\n",
       "11359      0\n",
       "11360      0\n",
       "11361      0\n",
       "11362      0\n",
       "11363      0\n",
       "11364      0\n",
       "11365      0\n",
       "11366      0\n",
       "11367      0\n",
       "11368      0\n",
       "11369      0\n",
       "11370      0\n",
       "11371      0\n",
       "11372      0\n",
       "11373      0\n",
       "11374      0\n",
       "11375      0\n",
       "11376      0\n",
       "11377      0\n",
       "11378      0\n",
       "11379      0\n",
       "11380      0\n",
       "11381      0\n",
       "11382      0\n",
       "11383      0\n",
       "11384      0\n",
       "Name: exercise, dtype: float64"
      ]
     },
     "execution_count": 440,
     "metadata": {},
     "output_type": "execute_result"
    }
   ],
   "source": [
    "e_df = exercise_list.sum(axis=1).to_frame(name='exercise')\n",
    "deef = master.append(e_df)\n",
    "derf = deef.exercise.dropna()\n",
    "derf"
   ]
  },
  {
   "cell_type": "code",
   "execution_count": 432,
   "metadata": {
    "collapsed": false
   },
   "outputs": [],
   "source": [
    "doop = master.groupby('TEAGE')"
   ]
  },
  {
   "cell_type": "code",
   "execution_count": 434,
   "metadata": {
    "collapsed": false,
    "scrolled": true
   },
   "outputs": [
    {
     "name": "stdout",
     "output_type": "stream",
     "text": [
      "       TEAGE  t010101  TESEX        TUFINLWGT  t050101  t120303\n",
      "39        10      610      1   7325390.733778        0      330\n",
      "49        10      480      1  17284603.689761        0      165\n",
      "61        10      450      2  23220400.569550        0      125\n",
      "88        10      480      1  13186606.269365        0        0\n",
      "95        10      465      2  23498429.630321        0        0\n",
      "126       10      520      2   5111724.936207        0      385\n",
      "127       10      555      1  18246566.290865        0        0\n",
      "136       10      455      2  26050136.903249        0      120\n",
      "156       10      470      1  12032854.019376      409      200\n",
      "168       10      690      1   9776548.777139        0      570\n",
      "176       10      810      2  12258183.437851        0      590\n",
      "182       10      645      2  14853183.882684        0       60\n",
      "188       10      600      1   7930671.840137        0        0\n",
      "192       10      590      1  15331577.262264        0       60\n",
      "220       10      810      1   3747644.368693        0        0\n",
      "284       10      632      1   8322956.232154        0        0\n",
      "291       10      450      2  21332472.568844        0        0\n",
      "309       10      525      2  21219988.363132        0        0\n",
      "400       10      570      2  13160459.620726        0       20\n",
      "419       10      660      2   6502054.294583        0      120\n",
      "427       10      730      1  13157528.323440      300       30\n",
      "432       10      840      2   3768668.700901        0       60\n",
      "496       10      474      2   3507471.522710        0       90\n",
      "505       10      560      2   3603916.045809      300      120\n",
      "509       10      715      1  20356012.578093        0      180\n",
      "541       10      630      1  18799348.384743        0       30\n",
      "578       10      780      1  12191930.254770        0      210\n",
      "606       10      710      2   4665918.270500        0        0\n",
      "612       10      636      2   5037604.070669        0        0\n",
      "630       10      720      1  24041924.750143        0      307\n",
      "...      ...      ...    ...              ...      ...      ...\n",
      "10796     10      490      2  18209729.433285        0        0\n",
      "10801     10      765      1   4875879.589655        0      650\n",
      "10833     10      390      2  26144413.637180        0      150\n",
      "10883     10      660      2  35667226.493369        0      180\n",
      "10922     10      540      2   4545756.211734        0        0\n",
      "10930     10      760      2   9885479.091282        0       60\n",
      "10949     10      540      2  35448170.998971        0       60\n",
      "10976     10      420      1   3421902.779792        0       90\n",
      "11006     10      480      2  33307622.668722        0      350\n",
      "11015     10      395      1   8129213.691383      550       65\n",
      "11017     10      428      1  13705057.110350        0        0\n",
      "11034     10      750      1   6600534.628853        0        0\n",
      "11037     10     1015      1   3179278.177192        0        0\n",
      "11040     10      540      1  14029146.125332        0      246\n",
      "11046     10      660      1   8302324.206821      550        0\n",
      "11066     10      845      2  27830450.004867        0       45\n",
      "11089     10      480      2  29061771.051207        0       40\n",
      "11112     10      660      1   6980159.305555        0       90\n",
      "11131     10      540      1   7466666.661487        0      160\n",
      "11143     10      750      1   7656954.649078        0        0\n",
      "11146     10      370      2  24711609.273728        0       90\n",
      "11165     10      458      1   9101434.668713        0      210\n",
      "11212     10      630      2  10176221.842711        0      135\n",
      "11263     10      720      1   6242106.101312        0       60\n",
      "11277     10      780      2  11219480.404516        0       90\n",
      "11281     10      825      1   6900488.424996        0      240\n",
      "11299     10      930      1  33045801.921894        0       60\n",
      "11305     10      420      1  10161375.748248      406      105\n",
      "11336     10      750      1   3124126.590468        0      190\n",
      "11337     10      660      1   5424512.023010        0        0\n",
      "\n",
      "[630 rows x 6 columns]\n",
      "       TEAGE  t010101  TESEX        TUFINLWGT  t050101  t120303\n",
      "0         20      540      2  11899905.662034        0      330\n",
      "9         20      520      2   3905483.253032      450        0\n",
      "22        20      540      1   5767745.700187      470        0\n",
      "28        20      150      2   7823574.493908        0      240\n",
      "48        20      195      1  47558174.916715      535       75\n",
      "69        20      520      1   7610347.321442      650       50\n",
      "72        20      750      2   2475227.649477        0       30\n",
      "80        20      390      2   2902362.038320        0      165\n",
      "97        20      490      2  10406697.968610      494       60\n",
      "113       20      615      1  22263548.185123      440      195\n",
      "118       20      420      1  25569487.580622      680      200\n",
      "132       20      600      1  10024101.613130        0      497\n",
      "140       20      480      2  15446029.125408      558      218\n",
      "142       20      390      2  16793383.462384      635       90\n",
      "163       20      240      1  13507907.871520      436      120\n",
      "170       20      660      1   5395994.974214        0      180\n",
      "178       20      575      2  28729454.031678      435      120\n",
      "181       20      540      2   4446148.674191      270      270\n",
      "185       20      715      2  31396108.581758        0      150\n",
      "186       20      390      1   6934967.010339      500      185\n",
      "194       20      660      1  15650915.300098        0      280\n",
      "210       20      570      2   4977342.447970        0       50\n",
      "242       20      510      2   9450898.245420        0      120\n",
      "247       20      420      2   1929271.112057        0       90\n",
      "249       20      690      2   2596206.638998        0        0\n",
      "250       20      465      2  12400702.893819        0       90\n",
      "257       20      505      2   5717246.257594      660        0\n",
      "267       20      645      1   8206748.617891      300       45\n",
      "271       20      600      1  13356790.759873        0      320\n",
      "277       20      465      1  49531689.248070      525        0\n",
      "...      ...      ...    ...              ...      ...      ...\n",
      "11081     20      495      2  21051663.239670      600        0\n",
      "11082     20      894      1   4498295.055811        0       90\n",
      "11086     20      630      2  27329574.632137      430      180\n",
      "11104     20      715      1  13382246.454755        0      420\n",
      "11108     20      695      1  19105527.989516      120        0\n",
      "11113     20      720      1   8596232.621229      300        0\n",
      "11117     20      585      2   5864959.847693      489        0\n",
      "11118     20      315      1   4095785.607304        0        0\n",
      "11125     20      310      1  49960437.222844        0      105\n",
      "11161     20      295      1  32070013.095155      500      180\n",
      "11166     20      452      1  13960000.231074      466      195\n",
      "11180     20      450      2  52632328.828751        0      411\n",
      "11181     20      595      1   5782659.310700        0      180\n",
      "11194     20      540      2  35060245.775690      225       60\n",
      "11214     20      510      1   2192707.928641        0      240\n",
      "11226     20      930      1   7322035.974241        0      360\n",
      "11237     20      599      2   4436344.008165        0      188\n",
      "11243     20      570      2   2143529.961279        0      143\n",
      "11246     20      450      1   7706183.754778      540        0\n",
      "11247     20      690      1   7217195.241209      510        0\n",
      "11266     20      600      1   4197057.643162        0      300\n",
      "11285     20      640      1  11597353.199992        0      178\n",
      "11287     20      630      2   7936784.277661      310      125\n",
      "11306     20      310      1  44748973.969384        0        0\n",
      "11314     20      545      2   3302644.755483       20      120\n",
      "11319     20      427      2   3705680.234096      794        0\n",
      "11335     20      420      1  32218669.402973      435        0\n",
      "11348     20      510      2  25858850.521863        0        0\n",
      "11360     20      500      2   9075032.448859        0       60\n",
      "11368     20      435      2   6753944.494461      483      180\n",
      "\n",
      "[1227 rows x 6 columns]\n",
      "       TEAGE  t010101  TESEX        TUFINLWGT  t050101  t120303\n",
      "1         30      580      1   4447638.009513        0       95\n",
      "11        30      500      1   6755514.216327      520       60\n",
      "20        30      680      2   1102916.898147        0        0\n",
      "36        30      427      2  12247497.817496      417      120\n",
      "44        30      495      2  17663714.149234      425       60\n",
      "52        30      600      2   2545139.512357        0      172\n",
      "60        30      480      2   6824541.014325      420      195\n",
      "62        30      585      1   7766675.451508        0       88\n",
      "67        30      550      2   3292976.630328       90       30\n",
      "73        30      599      2   2077845.156239        0       24\n",
      "79        30      385      1   2292542.682742      310        0\n",
      "84        30      571      2  10195964.532553        0        0\n",
      "85        30      400      1   7411953.861404      505      110\n",
      "91        30      515      1  19579904.656459      555       30\n",
      "93        30      360      1  19702245.941487        0      360\n",
      "99        30      210      1   7828544.773423      795      210\n",
      "102       30      660      2   2010358.767744      685        0\n",
      "111       30      960      2  12080068.852012        0      400\n",
      "115       30      510      1   3171595.802118        0       60\n",
      "116       30      420      2  13243599.712815      480        0\n",
      "117       30      580      1   9195857.630884       10      410\n",
      "121       30      390      1   2932486.383661        0      298\n",
      "123       30      480      1   2578796.440520        0      620\n",
      "124       30      450      2  11864076.858080      486      229\n",
      "133       30      600      2   3044119.177159        0      555\n",
      "148       30      360      2   3290041.071775        0      265\n",
      "152       30      510      2   7354890.565325        0      183\n",
      "164       30      520      1  21645455.510258      465      100\n",
      "165       30      578      2  19880864.002577      493       90\n",
      "166       30      420      2   2329178.869577      755       20\n",
      "...      ...      ...    ...              ...      ...      ...\n",
      "11217     30      480      1   3029264.490944      540        0\n",
      "11221     30      510      2   2678242.860944        0        0\n",
      "11222     30      360      1   2783248.883993      710       60\n",
      "11224     30      490      2   3954988.563090        0        0\n",
      "11240     30      420      1  12925321.152796      495      180\n",
      "11248     30      384      1   6033256.735098        0      544\n",
      "11250     30      510      1   4135572.525678        0      389\n",
      "11252     30      585      1  21980509.138592      660        0\n",
      "11253     30      575      1   2551214.599892        0      603\n",
      "11257     30      445      1   7834085.666400      450        0\n",
      "11262     30      480      2   1985563.638093        0      200\n",
      "11274     30      450      2   8401493.274954        0        0\n",
      "11276     30      675      2   3633735.472181        0      120\n",
      "11280     30      760      1  21373128.933256        0       90\n",
      "11283     30      660      2   5817911.706809        0        0\n",
      "11293     30      554      2   2355872.045471      105        0\n",
      "11295     30      720      1   3264654.964583        0      120\n",
      "11297     30      725      2   2286079.651766        0      180\n",
      "11307     30      660      1   6455713.879513        0      415\n",
      "11316     30       95      2   4434448.973399        0       60\n",
      "11323     30      660      1  11670465.506146        0      490\n",
      "11329     30      390      2   2691814.008463      575       90\n",
      "11330     30      450      1   6319173.000529      475      413\n",
      "11339     30      360      2   4338027.600369        0       60\n",
      "11342     30      660      1   5920576.231175        0        0\n",
      "11346     30      420      2   2309394.161367        0      118\n",
      "11361     30      540      1  26070055.668273        0      175\n",
      "11363     30      810      1   1661291.183740        0      400\n",
      "11371     30      444      2   8820012.063839      480       60\n",
      "11374     30      660      1   7697603.816560      400      180\n",
      "\n",
      "[2135 rows x 6 columns]\n",
      "       TEAGE  t010101  TESEX        TUFINLWGT  t050101  t120303\n",
      "2         40      450      2  10377056.507734        0       60\n",
      "4         40      570      2   4725269.227067        0       90\n",
      "13        40      480      2   5521732.162587      505       15\n",
      "16        40      450      1   6884215.057542      490       70\n",
      "19        40      405      2  12301142.559951        0      120\n",
      "25        40      528      1   3157926.871281        0        0\n",
      "29        40      420      2   9061749.751818      282       90\n",
      "31        40      480      1  17897951.662710        0      287\n",
      "34        40     1108      1   9872318.115406        0      268\n",
      "45        40      500      1   2630800.468761      490       20\n",
      "46        40      570      2   2037394.470956        0      288\n",
      "50        40      755      1   7487792.888126        0      268\n",
      "70        40      387      2   7791711.857311      465       60\n",
      "77        40      600      2  10954496.632411       20      165\n",
      "78        40      600      2   6052110.766297      495       30\n",
      "86        40     1005      2   6118133.026524        0        0\n",
      "89        40      570      1  10610185.315550        0      550\n",
      "90        40      395      1   4479189.671498      615       80\n",
      "98        40      540      1  13367259.660653      465      225\n",
      "110       40      750      1   3097491.070263       10      270\n",
      "129       40      615      2   3161004.079121        0        0\n",
      "130       40      555      1   7108775.747053      425       50\n",
      "131       40      420      1   6405218.894362      760       60\n",
      "135       40      450      1   7691516.119898      772      120\n",
      "137       40      420      1   3571102.552099        0      150\n",
      "144       40      500      1   7595798.145121      520      120\n",
      "146       40      530      2   8502848.723099        0        0\n",
      "147       40      450      1   6047088.987427      683        0\n",
      "154       40      510      2   1591781.156326        0        0\n",
      "158       40      725      1  12007283.051748      380      240\n",
      "...      ...      ...    ...              ...      ...      ...\n",
      "11265     40      540      1  15695072.236362        0      690\n",
      "11269     40      600      2   1311156.259538       10      144\n",
      "11279     40      500      1  30008989.260705        0       80\n",
      "11284     40      540      1  10623228.616852        0      520\n",
      "11288     40      555      2   6316426.665632        0      275\n",
      "11290     40      610      1   5979163.598864        0      289\n",
      "11291     40      510      2   4165611.110828        0      385\n",
      "11302     40      510      1   7265481.594943        0      120\n",
      "11303     40      690      1   2396136.831248        0      130\n",
      "11308     40      545      2   3393501.331304        0       60\n",
      "11315     40      575      2   1191105.800719       80       90\n",
      "11320     40      550      1   5384630.528194      495       75\n",
      "11322     40      530      1   4032736.345657        0      330\n",
      "11326     40      490      2   3940579.188645        0       85\n",
      "11328     40      420      2   8123410.202165        0       60\n",
      "11334     40      585      1   5985504.301408        0       15\n",
      "11338     40      600      2   3509393.995749        0       30\n",
      "11345     40      612      2   2920871.517947        0       40\n",
      "11351     40      595      1   3726657.058047        0      520\n",
      "11352     40      499      2   8661395.066959        0        0\n",
      "11357     40      660      2  17993815.969566        0      240\n",
      "11358     40      493      1  10952198.773372      343        0\n",
      "11362     40      953      2   4479526.683095      180        0\n",
      "11365     40      370      2  29229820.168242        0        0\n",
      "11375     40      360      2   7045546.574380      480        0\n",
      "11376     40      505      1   3404156.995949       45      120\n",
      "11379     40      620      2   4844414.703530        0      205\n",
      "11382     40      645      1  23557969.110158      550        0\n",
      "11383     40      510      1  20450051.675501        0       60\n",
      "11384     40      385      1   3397480.288114        0      330\n",
      "\n",
      "[2070 rows x 6 columns]\n",
      "       TEAGE  t010101  TESEX        TUFINLWGT  t050101  t120303\n",
      "3         50      450      2   7731257.992805      680       65\n",
      "7         50      480      2   8608413.296903        0       90\n",
      "8         50      930      2   1378191.194810        0      270\n",
      "10        50      210      2   4538371.462244      540      283\n",
      "12        50      650      1  13506297.294756        0      300\n",
      "17        50      420      1  12569148.198194        0      660\n",
      "18        50      300      2  14226152.054254      725       75\n",
      "21        50      467      2   8128107.650758      265      105\n",
      "23        50      520      2   9474271.417876        0       60\n",
      "24        50      160      1   5960041.143926     1006        0\n",
      "26        50      720      2   3359410.785590        0      360\n",
      "33        50      450      2   5114237.704143      520        0\n",
      "41        50      545      1   5672688.960360      475        0\n",
      "42        50      860      2   4899964.175715        0      420\n",
      "43        50      530      2   4179351.731196       30      230\n",
      "56        50      540      1  14395170.154470        0      250\n",
      "59        50      460      2   3899112.240048        0       90\n",
      "63        50      420      1   4336329.296802      485      250\n",
      "64        50      540      1   5507709.637792        0      275\n",
      "65        50      165      2   4745076.033227      450        0\n",
      "66        50      480      1   4780823.505048      450        0\n",
      "71        50      470      2  17861075.311170      510      120\n",
      "75        50      400      2   9673636.600841        0        0\n",
      "105       50      560      1  14855319.048947      603       90\n",
      "108       50      440      2   5036942.371765      450       50\n",
      "119       50      510      2  12836583.287955      420      193\n",
      "120       50      510      1   4455799.336535      625       70\n",
      "125       50      590      2   3835748.221858        0        0\n",
      "134       50      390      2  14588052.810768      390      133\n",
      "138       50      309      1   8269284.626159      705      200\n",
      "...      ...      ...    ...              ...      ...      ...\n",
      "11175     50      420      1   5032572.030719      505      360\n",
      "11184     50      480      1  23215583.129806        0      481\n",
      "11185     50      540      2  21408342.414632        0      220\n",
      "11190     50      570      1   3018573.718431        0      410\n",
      "11193     50      600      1   2539190.698246      120       60\n",
      "11195     50      420      2  19464613.786907      555        0\n",
      "11199     50      300      2  10683016.652875        0      320\n",
      "11202     50      360      2   6761594.139816      510      160\n",
      "11204     50      555      1   4333417.846295       60        0\n",
      "11209     50      460      1  10246257.497062      660      120\n",
      "11219     50      400      2   5648311.548884      440        0\n",
      "11228     50      590      1  15943670.695261       15        0\n",
      "11234     50      300      1   8025836.789506        0      190\n",
      "11242     50      535      1   2511955.883756        0      470\n",
      "11267     50      660      1   2424338.722845        0      120\n",
      "11271     50      470      1  13053986.051667        0      290\n",
      "11272     50      480      1  18459763.924574        0       60\n",
      "11275     50      555      1   2042551.826923      200        0\n",
      "11282     50      300      1   8723788.752799      430      407\n",
      "11292     50      718      1   4418900.403328        0        0\n",
      "11298     50      830      1   7865093.851106        0       30\n",
      "11312     50      750      2   2655874.525220      120       60\n",
      "11327     50      510      1  34698751.604644      440      140\n",
      "11349     50      720      2   6791023.432204        0      355\n",
      "11355     50      315      1   8140631.838710       30      120\n",
      "11356     50      540      1   7853305.097899        0      190\n",
      "11364     50      550      2   9980183.671597        0      363\n",
      "11372     50      655      2   4571613.779402        0        0\n",
      "11377     50      570      2  10775395.416617      315      118\n",
      "11378     50      480      1   7548528.958862        0      370\n",
      "\n",
      "[2038 rows x 6 columns]\n",
      "       TEAGE  t010101  TESEX        TUFINLWGT  t050101  t120303\n",
      "14        60      615      1  11791654.393174        0      397\n",
      "15        60      720      2   1801834.050978        0      130\n",
      "30        60      470      2   5593947.004768        0      193\n",
      "35        60      600      2   1615210.298718        0      225\n",
      "37        60      300      1   4369661.120262        0      559\n",
      "51        60      540      2   1155696.356453        0      390\n",
      "54        60      495      2   1552575.923818        0      160\n",
      "55        60      670      1   4025712.610135        0      375\n",
      "58        60      553      1  18134702.210490        0      493\n",
      "68        60      540      2   7246036.839990        0      120\n",
      "74        60      495      2   1668957.316975       20      120\n",
      "76        60      570      1   7121345.777743        0      725\n",
      "81        60      365      1  14026843.891702        0      255\n",
      "82        60      480      2    905491.422607        0      585\n",
      "83        60      330      2   4949328.204808        0        0\n",
      "87        60      600      2   7214021.670004        0      330\n",
      "92        60      536      2   4214121.903742      535      110\n",
      "94        60      819      2   5423281.958462        0       30\n",
      "96        60      630      1   2378202.313739        0      750\n",
      "100       60      660      1  16345016.144182        0      635\n",
      "103       60      540      2   4767502.081252        0      365\n",
      "104       60      450      2   5874564.524659        0      384\n",
      "107       60      706      2    995946.672027        0       30\n",
      "109       60      585      2    957202.866217        0      225\n",
      "112       60      690      2  14250055.620988        0      395\n",
      "122       60      490      1  19181757.762991      480       30\n",
      "143       60      570      2   4203061.211280        0      290\n",
      "153       60      585      2   1026591.267310        0       60\n",
      "167       60      480      1   8827580.302387      180      190\n",
      "206       60      570      2   1495682.392854        0      447\n",
      "...      ...      ...    ...              ...      ...      ...\n",
      "11201     60      635      2   1779890.726839        0        0\n",
      "11215     60      450      2   5906807.899208        0      370\n",
      "11216     60      445      2  11288680.932262      485        0\n",
      "11232     60      720      2   3784844.768038        0      660\n",
      "11233     60      420      2   8321476.698838        0      355\n",
      "11244     60      420      1   2656294.115735        0        0\n",
      "11249     60      720      1   2059916.609318        0      550\n",
      "11254     60      630      2  17732989.092974        0      165\n",
      "11264     60      523      2  10915647.663904        0       95\n",
      "11268     60     1376      1   8007901.668570        0       60\n",
      "11273     60      570      1   5643283.112760        0      395\n",
      "11289     60      480      1   3165217.163949        0      637\n",
      "11296     60      560      2   2379662.158634        0      120\n",
      "11301     60      625      2   4718692.834607        0      210\n",
      "11304     60      565      1   1784286.956725        0      380\n",
      "11309     60      345      2   8226515.613924      450        0\n",
      "11310     60      600      1   1685062.337737        0        0\n",
      "11311     60      540      1  13257583.342535        0       60\n",
      "11313     60      435      2   1976427.364612      360      120\n",
      "11317     60      590      2   8762629.471153        0      152\n",
      "11318     60      450      2  13390317.688340      472      244\n",
      "11321     60      450      1   6525607.772974        0      510\n",
      "11331     60      720      2   3731145.590155        0      325\n",
      "11332     60      815      1   2529983.509041        0       60\n",
      "11353     60      450      1   4796588.887839        0      565\n",
      "11354     60      459      2   1620251.749429        0      120\n",
      "11359     60      510      1  10969610.362669      190      175\n",
      "11370     60      480      2   4681607.563005      495       90\n",
      "11373     60      450      1   6454041.312322        0      406\n",
      "11381     60      455      1   4103676.895062      445        0\n",
      "\n",
      "[1719 rows x 6 columns]\n",
      "       TEAGE  t010101  TESEX        TUFINLWGT  t050101  t120303\n",
      "6         70      290      1   5671341.270490        0      244\n",
      "32        70      510      1   9339822.293071        0      435\n",
      "38        70      555      1   4281464.665852        0      167\n",
      "40        70      510      2   2640030.174785        0      135\n",
      "47        70      450      1   7351319.132975        0      125\n",
      "53        70      467      2   2302532.129170        0      205\n",
      "101       70      570      1  10599708.349245        0      300\n",
      "159       70      623      1   5458501.990213        0      330\n",
      "162       70      480      1   5745654.098933      900        0\n",
      "179       70      780      2   8604987.493600        0      180\n",
      "189       70      360      1   5533265.788663        0       90\n",
      "190       70      720      1   3914537.546553        0      580\n",
      "199       70      615      2   5858104.695494        0      200\n",
      "200       70      895      1   7955493.450767        0      180\n",
      "208       70      495      2   6098490.933292        0       45\n",
      "221       70      720      1   4071770.199139        0      225\n",
      "233       70      784      1   1827420.031506        0      115\n",
      "236       70      650      1   3616078.174585        0      180\n",
      "237       70      450      2  13862088.362812        0      550\n",
      "255       70      420      1  14049868.701988      285        0\n",
      "260       70      540      2   1810049.688378        0      250\n",
      "269       70      705      2   7175918.642034        0       60\n",
      "320       70      600      1   6570729.327039        0      555\n",
      "342       70      770      2   2245016.672470        0      120\n",
      "349       70      510      1  10841672.060961        0      390\n",
      "353       70      390      1  10323139.493818        0      320\n",
      "361       70      300      2   7006110.116001        0      120\n",
      "372       70      480      1   3560186.962625        0      300\n",
      "388       70      380      2   7035922.172183        0      210\n",
      "389       70      510      2   9819799.461568        0       30\n",
      "...      ...      ...    ...              ...      ...      ...\n",
      "11064     70      480      2   6357041.783741        0      210\n",
      "11065     70      420      2   6262770.278938        0       30\n",
      "11073     70      300      1  13362800.811477        0      924\n",
      "11078     70      540      2   6028236.406986        0      582\n",
      "11100     70      560      1   1699946.003948        0      180\n",
      "11103     70      450      2   4030223.088018      285       60\n",
      "11109     70      575      2   2452262.758356      610        0\n",
      "11111     70      300      1   2601328.326493        0      960\n",
      "11121     70      600      2   3475303.399063        0      504\n",
      "11129     70      500      2  14650091.205261        0       60\n",
      "11148     70      480      1   5972292.674713      610      220\n",
      "11155     70      540      2  16265794.894820      450        0\n",
      "11186     70      335      1   5914189.513436        0      700\n",
      "11196     70      465      2   5805688.661820      534      138\n",
      "11200     70      510      1   4647609.775592        0      540\n",
      "11210     70      540      1  13351528.691465        0      715\n",
      "11218     70      570      1   6289319.793169        0        0\n",
      "11239     70      630      2  12737048.679523        0        0\n",
      "11245     70      495      1  10017639.876671        0      190\n",
      "11255     70      677      2  12987380.212853        0      151\n",
      "11259     70      620      1   7603251.331595       15        0\n",
      "11286     70      600      1   6861733.718310        0      400\n",
      "11294     70      510      2   6115763.610236        0       60\n",
      "11300     70      540      2   6186658.115273        0       60\n",
      "11324     70       60      2   3968824.922564        0       60\n",
      "11325     70      540      1   4601634.758350        0      180\n",
      "11341     70      510      2   1269938.571212        0      894\n",
      "11343     70      630      1  32120635.161945        0      635\n",
      "11347     70      570      1   3833098.981090        0      215\n",
      "11366     70      545      1   2709393.926463        0      240\n",
      "\n",
      "[954 rows x 6 columns]\n",
      "       TEAGE  t010101  TESEX        TUFINLWGT  t050101  t120303\n",
      "5         80      495      2   2372791.046351        0      270\n",
      "27        80      510      2  17547816.572228        0      120\n",
      "57        80      600      2   4735832.929302        0      240\n",
      "106       80      360      2   2017395.251175        0        0\n",
      "114       80      600      2   1672799.901193        0      490\n",
      "128       80      660      2   1532346.930362        0      180\n",
      "145       80      810      1  13262141.925633        0      120\n",
      "289       80      510      2   6680427.198486        0      185\n",
      "321       80      705      2   6006887.538735        0      165\n",
      "333       80      330      2   1753266.894347      120      453\n",
      "347       80      555      2  13167868.213048        0      260\n",
      "352       80      550      2   2224067.836660        0      180\n",
      "373       80      600      1  11156497.509749        0      165\n",
      "376       80      525      2   7150043.663756        0      160\n",
      "392       80      440      1   1797810.655993        0      335\n",
      "393       80      541      2  16151260.939039        0      329\n",
      "395       80      650      2   2016538.534295        0       45\n",
      "421       80      540      1   4552627.002899      245      165\n",
      "461       80      540      2   8002205.042858        0      240\n",
      "468       80      470      1   1774410.834063      240       15\n",
      "508       80      420      2   2272978.671553        0        0\n",
      "519       80      570      2  15649036.558960        0      390\n",
      "525       80      450      2   7926611.511046        0        0\n",
      "528       80      510      2   5590727.095603        0      115\n",
      "532       80      467      1   1833186.987661        0      240\n",
      "543       80      540      1   1912086.105907        0      675\n",
      "565       80      540      1   4820263.194324        0      120\n",
      "618       80      540      2   4834649.166287        0      875\n",
      "625       80      470      2   6381826.183586        0      190\n",
      "711       80      720      2   6503836.965754        0      125\n",
      "...      ...      ...    ...              ...      ...      ...\n",
      "10908     80      450      2   3669160.142743        0      265\n",
      "10946     80      540      2   1540997.446387        0      165\n",
      "10967     80      720      1   5158938.664079        0      585\n",
      "10968     80      540      1   7379338.236892        0       30\n",
      "11022     80      630      2   3132975.049378        0        0\n",
      "11030     80      700      1   7712442.882288        0      480\n",
      "11033     80      506      1   5940063.907671        0       60\n",
      "11042     80      510      1  12765353.852847        0      280\n",
      "11099     80      810      2  11340505.719801        0       60\n",
      "11101     80      585      1   2452363.918235        0      747\n",
      "11122     80      540      2   1387725.018450        0        0\n",
      "11124     80      780      1   2911306.663617        0      490\n",
      "11142     80      480      2   4249868.979466      165      120\n",
      "11167     80      450      2   6911348.142600        0      551\n",
      "11198     80      560      2   3956966.489327        0        0\n",
      "11207     80      375      2  16018203.380493        0      355\n",
      "11227     80      420      2   3185870.710368        0      150\n",
      "11231     80      660      1  13157418.855151        0      120\n",
      "11235     80      810      2   6365190.049790        0      600\n",
      "11251     80      655      1   3105983.861132        0      233\n",
      "11258     80      510      2   3869762.971403        0        0\n",
      "11270     80      720      1   5511908.806864        0      685\n",
      "11278     80      510      2   4241514.318240        0      324\n",
      "11333     80      630      2   3246491.188202        0      340\n",
      "11340     80      640      2   2755542.631494        0      140\n",
      "11344     80      560      1  18136091.705952        0        0\n",
      "11350     80      520      2   6586072.883651        0      285\n",
      "11367     80      530      2   4417006.113982        0       90\n",
      "11369     80      700      1   3799315.033354        0      410\n",
      "11380     80      450      2   4469643.600730        0      480\n",
      "\n",
      "[612 rows x 6 columns]\n"
     ]
    }
   ],
   "source": []
  },
  {
   "cell_type": "code",
   "execution_count": null,
   "metadata": {
    "collapsed": true
   },
   "outputs": [],
   "source": []
  }
 ],
 "metadata": {
  "kernelspec": {
   "display_name": "Python 3",
   "language": "python",
   "name": "python3"
  },
  "language_info": {
   "codemirror_mode": {
    "name": "ipython",
    "version": 3
   },
   "file_extension": ".py",
   "mimetype": "text/x-python",
   "name": "python",
   "nbconvert_exporter": "python",
   "pygments_lexer": "ipython3",
   "version": "3.4.3"
  }
 },
 "nbformat": 4,
 "nbformat_minor": 0
}
